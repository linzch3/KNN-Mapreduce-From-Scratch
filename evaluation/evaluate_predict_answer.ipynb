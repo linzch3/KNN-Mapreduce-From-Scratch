{
 "cells": [
  {
   "cell_type": "code",
   "execution_count": 18,
   "metadata": {
    "ExecuteTime": {
     "end_time": "2018-01-19T16:29:30.551028Z",
     "start_time": "2018-01-19T16:29:29.888951Z"
    }
   },
   "outputs": [
    {
     "name": "stdout",
     "output_type": "stream",
     "text": [
      "(14400, 19)\n",
      "5918 1128 1266 6088\n",
      "F1: 0.83176 accuracy: 0.83375\n"
     ]
    }
   ],
   "source": [
    "import numpy as np\n",
    "from collections import Counter\n",
    "arr = np.array\n",
    "\n",
    "def evaluate(predictLabel, realLabel):\n",
    "    '''给定算法得到的分类结果和实际的分类结果，计算评测指标\n",
    "    注意：标签为1则为正标签，标签不为1则为负标签'''\n",
    "    def safeDivide(a, b):\n",
    "        return a/b if b != 0 else 0\n",
    "    \n",
    "    TP = Counter(np.logical_and(predictLabel==1, realLabel==1))[True]\n",
    "    FN = Counter(np.logical_and(predictLabel!=1, realLabel==1))[True]\n",
    "    FP = Counter(np.logical_and(predictLabel==1, realLabel!=1))[True]\n",
    "    TN = Counter(np.logical_and(predictLabel!=1, realLabel!=1))[True]\n",
    "    \n",
    "    print(TP,FN,FP,TN)\n",
    "    \n",
    "    F1 = safeDivide(2*TP, 2*TP+FN+FP)\n",
    "    accuracy = safeDivide(TP+TN, TP+TN+FP+FN)\n",
    "  \n",
    "    print(\"F1: %.5f accuracy: %.5f\" % (F1, accuracy))\n",
    "    \n",
    "    \n",
    "def loadDataSet(k):    \n",
    "    data = np.loadtxt('k={i}-predict.txt'.format(i=k), delimiter=\",\")\n",
    "    print(data.shape)\n",
    "    return data\n",
    "\n",
    "data = loadDataSet(5)\n",
    "real_label = data[:,-2]\n",
    "predict_label = data[:,-1]\n",
    "evaluate(predict_label, real_label)"
   ]
  },
  {
   "cell_type": "code",
   "execution_count": null,
   "metadata": {
    "collapsed": true
   },
   "outputs": [],
   "source": []
  },
  {
   "cell_type": "code",
   "execution_count": 8,
   "metadata": {
    "ExecuteTime": {
     "end_time": "2018-01-19T14:52:16.209916Z",
     "start_time": "2018-01-19T14:52:16.199911Z"
    }
   },
   "outputs": [
    {
     "name": "stdout",
     "output_type": "stream",
     "text": [
      "test 1: normal one\n",
      "1 1 1 1\n",
      "F1: 0.50000 accuracy: 0.50000\n",
      "\n",
      "test 2: may have zero division error\n",
      "1 1 0 2\n",
      "F1: 0.66667 accuracy: 0.75000\n"
     ]
    }
   ],
   "source": [
    "print('test 1: normal one')\n",
    "evaluate(arr([1, 1, 0, 0]), arr([1, 0, 1, 0]))\n",
    "print('\\ntest 2: may have zero division error')\n",
    "evaluate(arr([0, 0, 1, 0]), arr([1, 0, 1, 0]))"
   ]
  }
 ],
 "metadata": {
  "anaconda-cloud": {},
  "kernelspec": {
   "display_name": "Python [conda root]",
   "language": "python",
   "name": "conda-root-py"
  },
  "language_info": {
   "codemirror_mode": {
    "name": "ipython",
    "version": 3
   },
   "file_extension": ".py",
   "mimetype": "text/x-python",
   "name": "python",
   "nbconvert_exporter": "python",
   "pygments_lexer": "ipython3",
   "version": "3.5.2"
  },
  "toc": {
   "nav_menu": {},
   "number_sections": true,
   "sideBar": true,
   "skip_h1_title": false,
   "toc_cell": false,
   "toc_position": {},
   "toc_section_display": "block",
   "toc_window_display": false
  }
 },
 "nbformat": 4,
 "nbformat_minor": 2
}
